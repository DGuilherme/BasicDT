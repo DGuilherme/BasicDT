{
  "nbformat": 4,
  "nbformat_minor": 0,
  "metadata": {
    "colab": {
      "name": "CH3-PatentRS.ipynb",
      "provenance": [],
      "authorship_tag": "ABX9TyNtzZhCA+l7DmLCyWlAz+8y",
      "include_colab_link": true
    },
    "kernelspec": {
      "name": "python3",
      "display_name": "Python 3"
    },
    "language_info": {
      "name": "python"
    }
  },
  "cells": [
    {
      "cell_type": "markdown",
      "metadata": {
        "id": "view-in-github",
        "colab_type": "text"
      },
      "source": [
        "<a href=\"https://colab.research.google.com/github/DGuilherme/BasicDT/blob/master/CH3_PatentRS.ipynb\" target=\"_parent\"><img src=\"https://colab.research.google.com/assets/colab-badge.svg\" alt=\"Open In Colab\"/></a>"
      ]
    },
    {
      "cell_type": "markdown",
      "metadata": {
        "id": "e5xsM-rCEg4N"
      },
      "source": [
        "# Challenge 3 Patent Reconmmender System\n"
      ]
    },
    {
      "cell_type": "code",
      "metadata": {
        "colab": {
          "base_uri": "https://localhost:8080/"
        },
        "id": "0GEURDWpEZdh",
        "outputId": "4878aa06-6308-4f68-8b01-512d8650e3b9"
      },
      "source": [
        "# Import section\n",
        "%matplotlib inline\n",
        "\n",
        "import logging\n",
        "logging.basicConfig(format='%(asctime)s : %(levelname)s : %(message)s', level=logging.INFO)\n",
        "\n",
        "import pandas as pd\n",
        "import matplotlib.pyplot as plt\n",
        "import numpy as np\n",
        "import random\n",
        "\n",
        "# solve issue of gensim version\n",
        "!pip install --upgrade gensim"
      ],
      "execution_count": 2,
      "outputs": [
        {
          "output_type": "stream",
          "text": [
            "Requirement already up-to-date: gensim in /usr/local/lib/python3.7/dist-packages (4.0.1)\n",
            "Requirement already satisfied, skipping upgrade: smart-open>=1.8.1 in /usr/local/lib/python3.7/dist-packages (from gensim) (5.0.0)\n",
            "Requirement already satisfied, skipping upgrade: numpy>=1.11.3 in /usr/local/lib/python3.7/dist-packages (from gensim) (1.19.5)\n",
            "Requirement already satisfied, skipping upgrade: scipy>=0.18.1 in /usr/local/lib/python3.7/dist-packages (from gensim) (1.4.1)\n"
          ],
          "name": "stdout"
        }
      ]
    },
    {
      "cell_type": "markdown",
      "metadata": {
        "id": "dlDa5eG5E5j0"
      },
      "source": [
        "# Import Dataset\n",
        "\n",
        "*Dataset composition*   \n",
        "\n",
        "| Feature        | Description           |\n",
        "| -------------- | --------------------- |\n",
        "| ID             | The patent ID         |\n",
        "| Title          | Patent Title          |\n",
        "| Abstract       | Patent Abstract       |\n",
        "| Classification | [Patent Classification](https://www.uspto.gov/web/patents/classification/selectnumwithtitle.htm) |\n",
        "\n",
        "## How to export from database\n",
        "\n",
        "\n",
        "```\n",
        "db.10000.find(\n",
        "  {'classes.FSC': {$exists: true},title: {$exists: true},'abstract': {$exists: true}},\n",
        "  {'abstract': 1,title: 1,'classes.FSC': 1}\n",
        ")\n",
        "```\n",
        "\n"
      ]
    },
    {
      "cell_type": "code",
      "metadata": {
        "id": "mnNulBqhGNj3"
      },
      "source": [
        "url = 'https://raw.githubusercontent.com/DGuilherme/Challenge3/main/Dataset/10000_classified_patents.json'\n"
      ],
      "execution_count": 3,
      "outputs": []
    },
    {
      "cell_type": "markdown",
      "metadata": {
        "id": "a_j0XG82HD0T"
      },
      "source": [
        "# Preprocessing \n"
      ]
    },
    {
      "cell_type": "code",
      "metadata": {
        "id": "-CXhoozoHIYO"
      },
      "source": [
        "from sklearn.model_selection import train_test_split\n",
        "\n",
        "train_data_unsplit = pd.read_json(url)\n",
        "train_data_unsplit = train_data_unsplit.rename(columns={'_id': 'ID', 'abstract': 'Resumo','title': 'Titulo'})\n",
        "train_data_unsplit = train_data_unsplit.dropna()\n",
        "train_data_unsplit = train_data_unsplit.drop_duplicates(subset =\"Resumo\",keep = False)\n",
        "train_data_unsplit = train_data_unsplit.drop_duplicates(subset =\"Titulo\",keep = False)\n",
        "\n",
        "# Split dataset\n",
        "train_data, test_data = train_test_split(train_data_unsplit, test_size=0.2)"
      ],
      "execution_count": null,
      "outputs": []
    },
    {
      "cell_type": "markdown",
      "metadata": {
        "id": "y7wxz6hIHTH3"
      },
      "source": [
        "# Create the Vocabulary"
      ]
    },
    {
      "cell_type": "code",
      "metadata": {
        "id": "P-joK4g9Jsx2"
      },
      "source": [
        "import gensim\n",
        "def tagData(dataframe):\n",
        "  number = 0\n",
        "  for index,row in dataframe.iterrows():\n",
        "    number = number + 1\n",
        "    resumotokens = gensim.utils.simple_preprocess(row['Resumo'])\n",
        "    #titulotokens = gensim.utils.simple_preprocess(row['Titulo'])\n",
        "\n",
        "    yield gensim.models.doc2vec.TaggedDocument(resumotokens, [number]) #yield gensim.utils.simple_preprocess(row['Resumo'])\n",
        "\n",
        "\n",
        "vocabulary = list(tagData(train_data))\n",
        "vocabulary_test = list(tagData(test_data))"
      ],
      "execution_count": null,
      "outputs": []
    },
    {
      "cell_type": "markdown",
      "metadata": {
        "id": "AiVQ5oxFJ5dI"
      },
      "source": [
        "# User Question\n"
      ]
    },
    {
      "cell_type": "code",
      "metadata": {
        "id": "giO5LSBwJ9OK"
      },
      "source": [
        ""
      ],
      "execution_count": null,
      "outputs": []
    },
    {
      "cell_type": "markdown",
      "metadata": {
        "id": "qtbfLl39J-Yp"
      },
      "source": [
        "# Create gensim Doc2Vec model"
      ]
    },
    {
      "cell_type": "code",
      "metadata": {
        "id": "RWylcDJ_KFyG"
      },
      "source": [
        "# instanciate\n",
        "model = gensim.models.doc2vec.Doc2Vec(vector_size=100, min_count=2, epochs=250) # Create inital empty model\n",
        "\n",
        "# build\n",
        "model.build_vocab(vocabulary) # Add data to the model"
      ],
      "execution_count": null,
      "outputs": []
    },
    {
      "cell_type": "markdown",
      "metadata": {
        "id": "C-9KgHzEKR5Q"
      },
      "source": [
        "# Model Train\n"
      ]
    },
    {
      "cell_type": "code",
      "metadata": {
        "id": "A8zcglucKRhf"
      },
      "source": [
        "model.train(vocabulary, total_examples=model.corpus_count, epochs=model.epochs)"
      ],
      "execution_count": null,
      "outputs": []
    },
    {
      "cell_type": "markdown",
      "metadata": {
        "id": "9OebvwwTKiN6"
      },
      "source": [
        "# Model Test\n",
        " "
      ]
    },
    {
      "cell_type": "code",
      "metadata": {
        "id": "PfofGpbQKhqA"
      },
      "source": [
        ""
      ],
      "execution_count": null,
      "outputs": []
    }
  ]
}